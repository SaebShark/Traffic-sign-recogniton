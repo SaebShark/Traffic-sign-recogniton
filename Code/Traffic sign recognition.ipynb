{
 "cells": [
  {
   "cell_type": "code",
   "execution_count": 38,
   "metadata": {},
   "outputs": [],
   "source": [
    "import gc, os, cv2, PIL, torch\n",
    "import torch.nn as nn\n",
    "import torchsummary as ts\n",
    "import torchvision as tv\n",
    "import numpy as np\n",
    "import pandas as pd\n",
    "import plotly.express as px\n",
    "import matplotlib.pyplot as plt\n",
    "from imblearn.over_sampling import RandomOverSampler\n",
    "from sklearn.model_selection import train_test_split\n",
    "from sklearn.metrics import accuracy_score, classification_report"
   ]
  },
  {
   "cell_type": "code",
   "execution_count": 9,
   "metadata": {},
   "outputs": [
    {
     "data": {
      "text/html": [
       "<div>\n",
       "<style scoped>\n",
       "    .dataframe tbody tr th:only-of-type {\n",
       "        vertical-align: middle;\n",
       "    }\n",
       "\n",
       "    .dataframe tbody tr th {\n",
       "        vertical-align: top;\n",
       "    }\n",
       "\n",
       "    .dataframe thead th {\n",
       "        text-align: right;\n",
       "    }\n",
       "</style>\n",
       "<table border=\"1\" class=\"dataframe\">\n",
       "  <thead>\n",
       "    <tr style=\"text-align: right;\">\n",
       "      <th></th>\n",
       "      <th>ClassId</th>\n",
       "      <th>Name</th>\n",
       "    </tr>\n",
       "  </thead>\n",
       "  <tbody>\n",
       "    <tr>\n",
       "      <th>0</th>\n",
       "      <td>0</td>\n",
       "      <td>Speed limit (20km/h)</td>\n",
       "    </tr>\n",
       "    <tr>\n",
       "      <th>1</th>\n",
       "      <td>1</td>\n",
       "      <td>Speed limit (30km/h)</td>\n",
       "    </tr>\n",
       "    <tr>\n",
       "      <th>2</th>\n",
       "      <td>2</td>\n",
       "      <td>Speed limit (50km/h)</td>\n",
       "    </tr>\n",
       "    <tr>\n",
       "      <th>3</th>\n",
       "      <td>3</td>\n",
       "      <td>Speed limit (60km/h)</td>\n",
       "    </tr>\n",
       "    <tr>\n",
       "      <th>4</th>\n",
       "      <td>4</td>\n",
       "      <td>Speed limit (70km/h)</td>\n",
       "    </tr>\n",
       "    <tr>\n",
       "      <th>5</th>\n",
       "      <td>5</td>\n",
       "      <td>Speed limit (80km/h)</td>\n",
       "    </tr>\n",
       "    <tr>\n",
       "      <th>6</th>\n",
       "      <td>6</td>\n",
       "      <td>End of speed limit (80km/h)</td>\n",
       "    </tr>\n",
       "    <tr>\n",
       "      <th>7</th>\n",
       "      <td>7</td>\n",
       "      <td>Speed limit (100km/h)</td>\n",
       "    </tr>\n",
       "    <tr>\n",
       "      <th>8</th>\n",
       "      <td>8</td>\n",
       "      <td>Speed limit (120km/h)</td>\n",
       "    </tr>\n",
       "    <tr>\n",
       "      <th>9</th>\n",
       "      <td>9</td>\n",
       "      <td>No passing</td>\n",
       "    </tr>\n",
       "    <tr>\n",
       "      <th>10</th>\n",
       "      <td>10</td>\n",
       "      <td>No passing for vechiles over 3.5 metric tons</td>\n",
       "    </tr>\n",
       "    <tr>\n",
       "      <th>11</th>\n",
       "      <td>11</td>\n",
       "      <td>Right-of-way at the next intersection</td>\n",
       "    </tr>\n",
       "    <tr>\n",
       "      <th>12</th>\n",
       "      <td>12</td>\n",
       "      <td>Priority road</td>\n",
       "    </tr>\n",
       "    <tr>\n",
       "      <th>13</th>\n",
       "      <td>13</td>\n",
       "      <td>Yield</td>\n",
       "    </tr>\n",
       "    <tr>\n",
       "      <th>14</th>\n",
       "      <td>14</td>\n",
       "      <td>Stop</td>\n",
       "    </tr>\n",
       "    <tr>\n",
       "      <th>15</th>\n",
       "      <td>15</td>\n",
       "      <td>No vechiles</td>\n",
       "    </tr>\n",
       "    <tr>\n",
       "      <th>16</th>\n",
       "      <td>16</td>\n",
       "      <td>Vechiles over 3.5 metric tons prohibited</td>\n",
       "    </tr>\n",
       "    <tr>\n",
       "      <th>17</th>\n",
       "      <td>17</td>\n",
       "      <td>No entry</td>\n",
       "    </tr>\n",
       "    <tr>\n",
       "      <th>18</th>\n",
       "      <td>18</td>\n",
       "      <td>General caution</td>\n",
       "    </tr>\n",
       "    <tr>\n",
       "      <th>19</th>\n",
       "      <td>19</td>\n",
       "      <td>Dangerous curve to the left</td>\n",
       "    </tr>\n",
       "    <tr>\n",
       "      <th>20</th>\n",
       "      <td>20</td>\n",
       "      <td>Dangerous curve to the right</td>\n",
       "    </tr>\n",
       "    <tr>\n",
       "      <th>21</th>\n",
       "      <td>21</td>\n",
       "      <td>Double curve</td>\n",
       "    </tr>\n",
       "    <tr>\n",
       "      <th>22</th>\n",
       "      <td>22</td>\n",
       "      <td>Bumpy road</td>\n",
       "    </tr>\n",
       "    <tr>\n",
       "      <th>23</th>\n",
       "      <td>23</td>\n",
       "      <td>Slippery road</td>\n",
       "    </tr>\n",
       "    <tr>\n",
       "      <th>24</th>\n",
       "      <td>24</td>\n",
       "      <td>Road narrows on the right</td>\n",
       "    </tr>\n",
       "    <tr>\n",
       "      <th>25</th>\n",
       "      <td>25</td>\n",
       "      <td>Road work</td>\n",
       "    </tr>\n",
       "    <tr>\n",
       "      <th>26</th>\n",
       "      <td>26</td>\n",
       "      <td>Traffic signals</td>\n",
       "    </tr>\n",
       "    <tr>\n",
       "      <th>27</th>\n",
       "      <td>27</td>\n",
       "      <td>Pedestrians</td>\n",
       "    </tr>\n",
       "    <tr>\n",
       "      <th>28</th>\n",
       "      <td>28</td>\n",
       "      <td>Children crossing</td>\n",
       "    </tr>\n",
       "    <tr>\n",
       "      <th>29</th>\n",
       "      <td>29</td>\n",
       "      <td>Bicycles crossing</td>\n",
       "    </tr>\n",
       "    <tr>\n",
       "      <th>30</th>\n",
       "      <td>30</td>\n",
       "      <td>Beware of ice/snow</td>\n",
       "    </tr>\n",
       "    <tr>\n",
       "      <th>31</th>\n",
       "      <td>31</td>\n",
       "      <td>Wild animals crossing</td>\n",
       "    </tr>\n",
       "    <tr>\n",
       "      <th>32</th>\n",
       "      <td>32</td>\n",
       "      <td>End of all speed and passing limits</td>\n",
       "    </tr>\n",
       "    <tr>\n",
       "      <th>33</th>\n",
       "      <td>33</td>\n",
       "      <td>Turn right ahead</td>\n",
       "    </tr>\n",
       "    <tr>\n",
       "      <th>34</th>\n",
       "      <td>34</td>\n",
       "      <td>Turn left ahead</td>\n",
       "    </tr>\n",
       "    <tr>\n",
       "      <th>35</th>\n",
       "      <td>35</td>\n",
       "      <td>Ahead only</td>\n",
       "    </tr>\n",
       "    <tr>\n",
       "      <th>36</th>\n",
       "      <td>36</td>\n",
       "      <td>Go straight or right</td>\n",
       "    </tr>\n",
       "    <tr>\n",
       "      <th>37</th>\n",
       "      <td>37</td>\n",
       "      <td>Go straight or left</td>\n",
       "    </tr>\n",
       "    <tr>\n",
       "      <th>38</th>\n",
       "      <td>38</td>\n",
       "      <td>Keep right</td>\n",
       "    </tr>\n",
       "    <tr>\n",
       "      <th>39</th>\n",
       "      <td>39</td>\n",
       "      <td>Keep left</td>\n",
       "    </tr>\n",
       "    <tr>\n",
       "      <th>40</th>\n",
       "      <td>40</td>\n",
       "      <td>Roundabout mandatory</td>\n",
       "    </tr>\n",
       "    <tr>\n",
       "      <th>41</th>\n",
       "      <td>41</td>\n",
       "      <td>End of no passing</td>\n",
       "    </tr>\n",
       "    <tr>\n",
       "      <th>42</th>\n",
       "      <td>42</td>\n",
       "      <td>End of no passing by vechiles over 3.5 metric ...</td>\n",
       "    </tr>\n",
       "  </tbody>\n",
       "</table>\n",
       "</div>"
      ],
      "text/plain": [
       "    ClassId                                               Name\n",
       "0         0                               Speed limit (20km/h)\n",
       "1         1                               Speed limit (30km/h)\n",
       "2         2                               Speed limit (50km/h)\n",
       "3         3                               Speed limit (60km/h)\n",
       "4         4                               Speed limit (70km/h)\n",
       "5         5                               Speed limit (80km/h)\n",
       "6         6                        End of speed limit (80km/h)\n",
       "7         7                              Speed limit (100km/h)\n",
       "8         8                              Speed limit (120km/h)\n",
       "9         9                                         No passing\n",
       "10       10       No passing for vechiles over 3.5 metric tons\n",
       "11       11              Right-of-way at the next intersection\n",
       "12       12                                      Priority road\n",
       "13       13                                              Yield\n",
       "14       14                                               Stop\n",
       "15       15                                        No vechiles\n",
       "16       16           Vechiles over 3.5 metric tons prohibited\n",
       "17       17                                           No entry\n",
       "18       18                                    General caution\n",
       "19       19                        Dangerous curve to the left\n",
       "20       20                       Dangerous curve to the right\n",
       "21       21                                       Double curve\n",
       "22       22                                         Bumpy road\n",
       "23       23                                      Slippery road\n",
       "24       24                          Road narrows on the right\n",
       "25       25                                          Road work\n",
       "26       26                                    Traffic signals\n",
       "27       27                                        Pedestrians\n",
       "28       28                                  Children crossing\n",
       "29       29                                  Bicycles crossing\n",
       "30       30                                 Beware of ice/snow\n",
       "31       31                              Wild animals crossing\n",
       "32       32                End of all speed and passing limits\n",
       "33       33                                   Turn right ahead\n",
       "34       34                                    Turn left ahead\n",
       "35       35                                         Ahead only\n",
       "36       36                               Go straight or right\n",
       "37       37                                Go straight or left\n",
       "38       38                                         Keep right\n",
       "39       39                                          Keep left\n",
       "40       40                               Roundabout mandatory\n",
       "41       41                                  End of no passing\n",
       "42       42  End of no passing by vechiles over 3.5 metric ..."
      ]
     },
     "execution_count": 9,
     "metadata": {},
     "output_type": "execute_result"
    }
   ],
   "source": [
    "labels_df = pd.read_csv(r'C:\\Users\\saebt\\OneDrive\\Traffic sign recognition\\labels.csv')\n",
    "labels_df"
   ]
  },
  {
   "cell_type": "code",
   "execution_count": 10,
   "metadata": {},
   "outputs": [
    {
     "name": "stdout",
     "output_type": "stream",
     "text": [
      "folder of label 0 images loaded. Number of samples : 451\n",
      "folder of label 1 images loaded. Number of samples : 4920\n",
      "folder of label 2 images loaded. Number of samples : 2610\n",
      "folder of label 3 images loaded. Number of samples : 2670\n",
      "folder of label 4 images loaded. Number of samples : 3750\n",
      "folder of label 5 images loaded. Number of samples : 3510\n",
      "folder of label 6 images loaded. Number of samples : 780\n",
      "folder of label 7 images loaded. Number of samples : 2730\n",
      "folder of label 8 images loaded. Number of samples : 2670\n",
      "folder of label 9 images loaded. Number of samples : 2790\n",
      "folder of label 10 images loaded. Number of samples : 3810\n",
      "folder of label 11 images loaded. Number of samples : 2490\n",
      "folder of label 12 images loaded. Number of samples : 3990\n",
      "folder of label 13 images loaded. Number of samples : 4080\n",
      "folder of label 14 images loaded. Number of samples : 1470\n",
      "folder of label 15 images loaded. Number of samples : 1170\n",
      "folder of label 16 images loaded. Number of samples : 780\n",
      "folder of label 17 images loaded. Number of samples : 2100\n",
      "folder of label 18 images loaded. Number of samples : 2280\n",
      "folder of label 19 images loaded. Number of samples : 390\n",
      "folder of label 20 images loaded. Number of samples : 660\n",
      "folder of label 21 images loaded. Number of samples : 600\n",
      "folder of label 22 images loaded. Number of samples : 720\n",
      "folder of label 23 images loaded. Number of samples : 960\n",
      "folder of label 24 images loaded. Number of samples : 510\n",
      "folder of label 25 images loaded. Number of samples : 2850\n",
      "folder of label 26 images loaded. Number of samples : 1140\n",
      "folder of label 27 images loaded. Number of samples : 450\n",
      "folder of label 28 images loaded. Number of samples : 1020\n",
      "folder of label 29 images loaded. Number of samples : 510\n",
      "folder of label 30 images loaded. Number of samples : 840\n",
      "folder of label 31 images loaded. Number of samples : 1470\n",
      "folder of label 32 images loaded. Number of samples : 450\n",
      "folder of label 33 images loaded. Number of samples : 1288\n",
      "folder of label 34 images loaded. Number of samples : 780\n",
      "folder of label 35 images loaded. Number of samples : 2280\n",
      "folder of label 36 images loaded. Number of samples : 720\n",
      "folder of label 37 images loaded. Number of samples : 390\n",
      "folder of label 38 images loaded. Number of samples : 3930\n",
      "folder of label 39 images loaded. Number of samples : 570\n",
      "folder of label 40 images loaded. Number of samples : 660\n",
      "folder of label 41 images loaded. Number of samples : 450\n",
      "folder of label 42 images loaded. Number of samples : 450\n",
      "CPU times: total: 24.3 s\n",
      "Wall time: 5min 55s\n"
     ]
    }
   ],
   "source": [
    "%%time \n",
    "# %%time used to calculate total time taken to execute the cell\n",
    "x , y = [] , []  # X to store images and y to store respective labels  \n",
    "data_dir = r'C:\\Users\\saebt\\OneDrive\\Traffic sign recognition\\myData'\n",
    "for folder in range(43):\n",
    "    folder_path = os.path.join(data_dir,str(folder)) # os.path.join just join both string \n",
    "    for i,img in enumerate(os.listdir(folder_path)):\n",
    "        img_path = os.path.join(folder_path,img)\n",
    "        # PIL load the image as PIL object and ToTensor() convert this to a Tensor\n",
    "        img_tensor = tv.transforms.ToTensor()(PIL.Image.open(img_path))\n",
    "        x.append(img_tensor.tolist()) # convert the tensor to list of list and append\n",
    "        y.append(folder)\n",
    "    print('folder of label',folder,'images loaded. Number of samples :',i+1)\n",
    "x = np.array(x)\n",
    "y = np.array(y)"
   ]
  },
  {
   "cell_type": "code",
   "execution_count": 11,
   "metadata": {},
   "outputs": [
    {
     "data": {
      "text/plain": [
       "(array([ 0,  1,  2,  3,  4,  5,  6,  7,  8,  9, 10, 11, 12, 13, 14, 15, 16,\n",
       "        17, 18, 19, 20, 21, 22, 23, 24, 25, 26, 27, 28, 29, 30, 31, 32, 33,\n",
       "        34, 35, 36, 37, 38, 39, 40, 41, 42]),\n",
       " array([ 451, 4920, 2610, 2670, 3750, 3510,  780, 2730, 2670, 2790, 3810,\n",
       "        2490, 3990, 4080, 1470, 1170,  780, 2100, 2280,  390,  660,  600,\n",
       "         720,  960,  510, 2850, 1140,  450, 1020,  510,  840, 1470,  450,\n",
       "        1288,  780, 2280,  720,  390, 3930,  570,  660,  450,  450],\n",
       "       dtype=int64))"
      ]
     },
     "execution_count": 11,
     "metadata": {},
     "output_type": "execute_result"
    }
   ],
   "source": [
    "np.unique(y,return_counts=True)"
   ]
  },
  {
   "cell_type": "code",
   "execution_count": 12,
   "metadata": {},
   "outputs": [
    {
     "data": {
      "text/plain": [
       "((211560, 3, 32, 32), (211560,))"
      ]
     },
     "execution_count": 12,
     "metadata": {},
     "output_type": "execute_result"
    }
   ],
   "source": [
    "x = x.reshape(x.shape[0],3*32*32) # flatten x as RandomOverSampler only accepts 2-D matrix\n",
    "# RandomOverSampler method duplicates samples in the minority class to balance dataset\n",
    "x,y = RandomOverSampler().fit_resample(x,y)\n",
    "x = x.reshape(x.shape[0],3,32,32) # reshaped again as it was\n",
    "x.shape, y.shape"
   ]
  },
  {
   "cell_type": "code",
   "execution_count": 13,
   "metadata": {},
   "outputs": [
    {
     "data": {
      "text/plain": [
       "(array([ 0,  1,  2,  3,  4,  5,  6,  7,  8,  9, 10, 11, 12, 13, 14, 15, 16,\n",
       "        17, 18, 19, 20, 21, 22, 23, 24, 25, 26, 27, 28, 29, 30, 31, 32, 33,\n",
       "        34, 35, 36, 37, 38, 39, 40, 41, 42]),\n",
       " array([4920, 4920, 4920, 4920, 4920, 4920, 4920, 4920, 4920, 4920, 4920,\n",
       "        4920, 4920, 4920, 4920, 4920, 4920, 4920, 4920, 4920, 4920, 4920,\n",
       "        4920, 4920, 4920, 4920, 4920, 4920, 4920, 4920, 4920, 4920, 4920,\n",
       "        4920, 4920, 4920, 4920, 4920, 4920, 4920, 4920, 4920, 4920],\n",
       "       dtype=int64))"
      ]
     },
     "execution_count": 13,
     "metadata": {},
     "output_type": "execute_result"
    }
   ],
   "source": [
    "np.unique(y,return_counts=True)"
   ]
  },
  {
   "cell_type": "code",
   "execution_count": 14,
   "metadata": {},
   "outputs": [
    {
     "data": {
      "text/plain": [
       "((169248, 3, 32, 32), (42312, 3, 32, 32), (169248,), (42312,))"
      ]
     },
     "execution_count": 14,
     "metadata": {},
     "output_type": "execute_result"
    }
   ],
   "source": [
    "# Stratified split on the dataset \n",
    "xtrain, xtest, ytrain, ytest = train_test_split(x,y,test_size=0.2,stratify=y)\n",
    "del x,y\n",
    "gc.collect() # delete x,y and free the memory \n",
    "xtrain.shape, xtest.shape, ytrain.shape, ytest.shape # splited data shapes"
   ]
  },
  {
   "cell_type": "code",
   "execution_count": 15,
   "metadata": {},
   "outputs": [
    {
     "data": {
      "image/png": "[encoded data removed]",
      "text/plain": [
       "<Figure size 2000x2000 with 1 Axes>"
      ]
     },
     "metadata": {},
     "output_type": "display_data"
    },
    {
     "name": "stdout",
     "output_type": "stream",
     "text": [
      "\n",
      "\n",
      "Labels of the above images :\n",
      "\n"
     ]
    },
    {
     "data": {
      "text/plain": [
       "array([ 2,  4, 22,  6, 29, 20,  3, 24, 37, 13, 21, 10,  3,  2, 28, 30,  0,\n",
       "       14, 21,  5, 30, 33, 24, 32, 16, 25, 36, 38, 24,  6,  6,  9, 30,  5,\n",
       "       21, 12, 38, 24, 37, 35, 24,  6, 10, 14, 27, 39, 41, 29, 23, 15, 42,\n",
       "       32, 34, 22, 24, 12,  3, 16, 12, 30,  0, 27,  8,  2, 18, 40, 34, 32,\n",
       "        4,  9, 33,  2, 32, 34, 23, 28, 14,  7, 33,  1, 31, 42,  7, 26, 13,\n",
       "       39, 13, 34, 39, 19,  5, 27, 30, 23, 31, 42,  0, 21, 30, 26])"
      ]
     },
     "execution_count": 15,
     "metadata": {},
     "output_type": "execute_result"
    }
   ],
   "source": [
    "plt.figure(figsize=(20,20)) \n",
    "# make_grid creates a grid of 100 images and show it\n",
    "plt.imshow(tv.utils.make_grid(torch.tensor(xtrain[:100]),nrow=10).permute(1,2,0))\n",
    "plt.axis('off') # To remove xticks and yticks\n",
    "plt.show()\n",
    "print('\\n\\nLabels of the above images :\\n')\n",
    "ytrain[:100]"
   ]
  },
  {
   "cell_type": "code",
   "execution_count": 16,
   "metadata": {},
   "outputs": [],
   "source": [
    "xtrain = torch.from_numpy(xtrain) \n",
    "ytrain = torch.from_numpy(ytrain)\n",
    "xtest = torch.from_numpy(xtest)\n",
    "ytest = torch.from_numpy(ytest)"
   ]
  },
  {
   "cell_type": "code",
   "execution_count": 17,
   "metadata": {},
   "outputs": [
    {
     "name": "stdout",
     "output_type": "stream",
     "text": [
      "----------------------------------------------------------------\n",
      "        Layer (type)               Output Shape         Param #\n",
      "================================================================\n",
      "            Conv2d-1           [-1, 16, 32, 32]             208\n",
      "       BatchNorm2d-2           [-1, 16, 32, 32]              32\n",
      "              ReLU-3           [-1, 16, 32, 32]               0\n",
      "         MaxPool2d-4           [-1, 16, 16, 16]               0\n",
      "            Conv2d-5           [-1, 32, 16, 16]           2,080\n",
      "       BatchNorm2d-6           [-1, 32, 16, 16]              64\n",
      "              ReLU-7           [-1, 32, 16, 16]               0\n",
      "         MaxPool2d-8             [-1, 32, 8, 8]               0\n",
      "            Conv2d-9             [-1, 64, 8, 8]           8,256\n",
      "      BatchNorm2d-10             [-1, 64, 8, 8]             128\n",
      "             ReLU-11             [-1, 64, 8, 8]               0\n",
      "        MaxPool2d-12             [-1, 64, 4, 4]               0\n",
      "          Flatten-13                 [-1, 1024]               0\n",
      "           Linear-14                  [-1, 256]         262,400\n",
      "             ReLU-15                  [-1, 256]               0\n",
      "           Linear-16                   [-1, 43]          11,051\n",
      "================================================================\n",
      "Total params: 284,219\n",
      "Trainable params: 284,219\n",
      "Non-trainable params: 0\n",
      "----------------------------------------------------------------\n",
      "Input size (MB): 0.01\n",
      "Forward/backward pass size (MB): 0.72\n",
      "Params size (MB): 1.08\n",
      "Estimated Total Size (MB): 1.82\n",
      "----------------------------------------------------------------\n"
     ]
    },
    {
     "name": "stderr",
     "output_type": "stream",
     "text": [
      "c:\\Users\\saebt\\anaconda3\\lib\\site-packages\\torch\\nn\\modules\\conv.py:454: UserWarning: Using padding='same' with even kernel lengths and odd dilation may require a zero-padded copy of the input be created (Triggered internally at C:\\actions-runner\\_work\\pytorch\\pytorch\\builder\\windows\\pytorch\\aten\\src\\ATen\\native\\Convolution.cpp:1032.)\n",
      "  return F.conv2d(input, weight, bias, self.stride,\n"
     ]
    }
   ],
   "source": [
    "model = nn.Sequential(\n",
    "                        # 1st convolutional network Layers\n",
    "                        nn.Conv2d(3,16,(2,2),(1,1),'same'),   # Convolution\n",
    "                        nn.BatchNorm2d(16),                   # Normalization \n",
    "                        nn.ReLU(True),                       # Activation\n",
    "                        nn.MaxPool2d((2,2)),                 # Pooling\n",
    "    \n",
    "                        # 2nd convolutional network Layers\n",
    "                        nn.Conv2d(16,32,(2,2),(1,1),'same'),  # Convolution\n",
    "                        nn.BatchNorm2d(32),                  # Normalization \n",
    "                        nn.ReLU(True),                       # Activation\n",
    "                        nn.MaxPool2d((2,2)),                 # Pooling\n",
    "    \n",
    "                        # 3rd convolutional network Layers\n",
    "                        nn.Conv2d(32,64,(2,2),(1,1),'same'), # Convolution\n",
    "                        nn.BatchNorm2d(64),                  # Normalization \n",
    "                        nn.ReLU(True),                       # Activation\n",
    "                        nn.MaxPool2d((2,2)),                 # Pooling\n",
    "\n",
    "                        # Flatten Data\n",
    "                        nn.Flatten(),                        # Flatten\n",
    "    \n",
    "                        # feed forward Layers\n",
    "                        nn.Linear(1024,256),                  # Linear \n",
    "                        nn.ReLU(True),                       # Activation\n",
    "                        nn.Linear(256,43)                    # Linear \n",
    "                    )\n",
    "\n",
    "# Send model to CPU instead of cpu\n",
    "model = model.to(torch.device('cpu'))\n",
    "\n",
    "# For Model Summary (on CPU)\n",
    "ts.summary(model, (3, 32, 32))"
   ]
  },
  {
   "cell_type": "code",
   "execution_count": 18,
   "metadata": {},
   "outputs": [],
   "source": [
    "def evaluate(model, data, target):\n",
    "    # sending data and target to CPU\n",
    "    data = data.to(torch.device('cpu'), non_blocking=True)\n",
    "    target = target.to(torch.device('cpu'), non_blocking=True).long()\n",
    "    length = len(target)\n",
    "    yhat = model(data)  # predict on data\n",
    "    ypred = yhat.argmax(axis=1)  # calculate the prediction labels from yhat\n",
    "    loss = float(nn.functional.cross_entropy(yhat, target))  # calculate the loss\n",
    "    acc = float((ypred == target).sum() / length)  # Calculate accuracy\n",
    "    print('Loss :', round(loss, 4), '- Accuracy :', round(acc, 4))  # Print loss and Accuracy\n",
    "    del data, target, yhat, ypred  # delete the used variables"
   ]
  },
  {
   "cell_type": "code",
   "execution_count": 19,
   "metadata": {},
   "outputs": [
    {
     "name": "stdout",
     "output_type": "stream",
     "text": [
      "\n",
      "Initial Loss and Accuracy on Test Dataset :\n",
      "Loss : 3.7897 - Accuracy : 0.0215\n"
     ]
    }
   ],
   "source": [
    "print('\\nInitial Loss and Accuracy on Test Dataset :')\n",
    "evaluate(model,xtest.float(),ytest)"
   ]
  },
  {
   "cell_type": "code",
   "execution_count": 20,
   "metadata": {},
   "outputs": [],
   "source": [
    "def train_model(model=model,optimizer=torch.optim.Adam,epochs=5,batch_size=200,steps_per_epochs=200,l2_reg=0,max_lr=0.01,grad_clip=0.5):\n",
    "    \n",
    "    hist = [[],[],[],[]] # hist will stores train and test data losses and accuracy of every epochs\n",
    "    \n",
    "    train_ds = [(x,y) for x,y in zip(xtrain,ytrain)] # Prepare training dataset for Data Loader\n",
    "    training_dl = torch.utils.data.DataLoader(train_ds,batch_size=batch_size) # Data Loader used to train model \n",
    "    train_dl = torch.utils.data.DataLoader(train_ds,batch_size=batch_size * steps_per_epochs) \n",
    "                                    # Data Loader for epoch end evaluation on train data\n",
    "    del train_ds \n",
    "    gc.collect() # Delete the used variable and free up memory\n",
    "    \n",
    "    # Initialized the Optimizer to update weights and bias of model parameters\n",
    "    optimizer = optimizer(model.parameters(),weight_decay=l2_reg)\n",
    "    # Initialized the Schedular to update learning rate as per one cycle poicy  \n",
    "    sched = torch.optim.lr_scheduler.OneCycleLR(optimizer,max_lr,epochs=epochs, steps_per_epoch=int(steps_per_epochs * 1.01))\n",
    "        \n",
    "    # Training Started\n",
    "    for i in range(epochs):\n",
    "                 \n",
    "        print('\\nEpoch' , i+1 , ': [',end=\"\")\n",
    "        \n",
    "        # Load Batches of training data loader\n",
    "        for j,(xb,yb) in enumerate(training_dl):\n",
    "            \n",
    "            # move the training batch data to cpu memory for faster processing\n",
    "            xb = xb.to(torch.device('cpu'),non_blocking=True)\n",
    "            yb = yb.to(torch.device('cpu'),non_blocking=True)\n",
    "            \n",
    "            # Calculate Losses and gradients\n",
    "            yhat = model(xb.float())\n",
    "            loss = nn.functional.cross_entropy(yhat, yb.long())\n",
    "            loss.backward()\n",
    "            # Clip the outlier like gradients\n",
    "            nn.utils.clip_grad_value_(model.parameters(),grad_clip)\n",
    "            \n",
    "            # Update Weights and bias\n",
    "            optimizer.step()\n",
    "            optimizer.zero_grad()\n",
    "            \n",
    "            # Update Learning Rate\n",
    "            sched.step()\n",
    "            \n",
    "            del xb,yb,yhat\n",
    "            # delete the used data and free up space\n",
    "            \n",
    "            # print the training epochs progress\n",
    "            if j % int(steps_per_epochs / 20) == 0:\n",
    "                print('.',end='')\n",
    "                \n",
    "            # break the loop when all steps of an epoch completed. \n",
    "            if steps_per_epochs == j :\n",
    "                break\n",
    "                             \n",
    "           \n",
    "        # Epochs end evaluation \n",
    "        device = torch.device('cpu') # initialized cpu to device\n",
    "        \n",
    "        # load training data batches from train data loader\n",
    "        for xtrainb,ytrainb in train_dl:\n",
    "            break\n",
    "        \n",
    "        # move train data to cpu\n",
    "        xtrain_cpu = xtrainb.to(device,non_blocking=True)\n",
    "        ytrain_cpu = ytrainb.to(device,non_blocking=True)\n",
    "        del xtrainb, ytrainb\n",
    "        gc.collect()\n",
    "        # delete used variables and free up space\n",
    "        \n",
    "        # Calculate train loss and accuracy\n",
    "        yhat = model(xtrain_cpu.float())\n",
    "        ypred = yhat.argmax(axis=1)\n",
    "        train_loss = float(nn.functional.cross_entropy(yhat, ytrain_cpu.long()))\n",
    "        train_acc = float((ypred == ytrain_cpu).sum() / len(ytrain_cpu))\n",
    "        \n",
    "        del xtrain_cpu, ytrain_cpu, yhat, ypred\n",
    "        # delete used variables and free up space\n",
    "        \n",
    "        # move test data to cpu\n",
    "        xtest_cpu = xtest.to(device,non_blocking=True)\n",
    "        ytest_cpu = ytest.to(device,non_blocking=True)\n",
    "        \n",
    "        # Calculate test loss and accuracy\n",
    "        yhat = model(xtest_cpu.float())\n",
    "        ypred = yhat.argmax(axis=1)\n",
    "        val_loss = float(nn.functional.cross_entropy(yhat, ytest_cpu.long()))\n",
    "        val_acc = float((ypred == ytest_cpu).sum() / len(ytest_cpu))\n",
    "        \n",
    "        del xtest_cpu, ytest_cpu, yhat, ypred\n",
    "        \n",
    "        # delete used variables and free up space\n",
    "        \n",
    "        # print the captured train and test loss and accuracy at the end of every epochs\n",
    "        print('] - Train Loss :',round(train_loss,4),'- Train Accuracy :',round(train_acc,4),\n",
    "              '- Val Loss :',round(val_loss,4), '- Val Accuracy :',round(val_acc,4))\n",
    "        \n",
    "        # store that data into the previously blank initialized hist list \n",
    "        hist[0].append(train_loss)\n",
    "        hist[1].append(val_loss)\n",
    "        hist[2].append(train_acc)\n",
    "        hist[3].append(val_acc)\n",
    "        \n",
    "    # Initialized all the evaluation history of all epochs to a dict\n",
    "    history = {'Train Loss':hist[0],'Val Loss':hist[1],'Train Accuracy':hist[2], 'Val Accuracy':hist[3]}\n",
    "    # return the history as pandas dataframe\n",
    "    return pd.DataFrame(history)"
   ]
  },
  {
   "cell_type": "code",
   "execution_count": 21,
   "metadata": {},
   "outputs": [
    {
     "name": "stdout",
     "output_type": "stream",
     "text": [
      "\n",
      "Epoch 1 : [.....................] - Train Loss : 0.4381 - Train Accuracy : 0.8935 - Val Loss : 0.4597 - Val Accuracy : 0.8875\n",
      "\n",
      "Epoch 2 : [.....................] - Train Loss : 0.1431 - Train Accuracy : 0.9591 - Val Loss : 0.1747 - Val Accuracy : 0.9487\n",
      "\n",
      "Epoch 3 : [.....................] - Train Loss : 0.1468 - Train Accuracy : 0.9507 - Val Loss : 0.1881 - Val Accuracy : 0.9412\n",
      "\n",
      "Epoch 4 : [.....................] - Train Loss : 0.151 - Train Accuracy : 0.9562 - Val Loss : 0.1898 - Val Accuracy : 0.9484\n",
      "\n",
      "Epoch 5 : [.....................] - Train Loss : 0.0509 - Train Accuracy : 0.9837 - Val Loss : 0.0774 - Val Accuracy : 0.9755\n",
      "\n",
      "Epoch 6 : [.....................] - Train Loss : 0.0395 - Train Accuracy : 0.9885 - Val Loss : 0.071 - Val Accuracy : 0.9797\n",
      "\n",
      "Epoch 7 : [.....................] - Train Loss : 0.04 - Train Accuracy : 0.987 - Val Loss : 0.0674 - Val Accuracy : 0.9795\n",
      "\n",
      "Epoch 8 : [.....................] - Train Loss : 0.0669 - Train Accuracy : 0.9786 - Val Loss : 0.1039 - Val Accuracy : 0.9708\n",
      "\n",
      "Epoch 9 : [.....................] - Train Loss : 0.0233 - Train Accuracy : 0.9922 - Val Loss : 0.0565 - Val Accuracy : 0.9846\n",
      "\n",
      "Epoch 10 : [.....................] - Train Loss : 0.009 - Train Accuracy : 0.997 - Val Loss : 0.0376 - Val Accuracy : 0.9905\n",
      "\n",
      "Epoch 11 : [.....................] - Train Loss : 0.0461 - Train Accuracy : 0.987 - Val Loss : 0.0848 - Val Accuracy : 0.9782\n",
      "\n",
      "Epoch 12 : [.....................] - Train Loss : 0.0296 - Train Accuracy : 0.9928 - Val Loss : 0.0678 - Val Accuracy : 0.9848\n",
      "\n",
      "Epoch 13 : [.....................] - Train Loss : 0.0257 - Train Accuracy : 0.9934 - Val Loss : 0.0587 - Val Accuracy : 0.9869\n",
      "\n",
      "Epoch 14 : [.....................] - Train Loss : 0.0098 - Train Accuracy : 0.9966 - Val Loss : 0.0445 - Val Accuracy : 0.9886\n",
      "\n",
      "Epoch 15 : [.....................] - Train Loss : 0.007 - Train Accuracy : 0.9978 - Val Loss : 0.0464 - Val Accuracy : 0.9899\n",
      "\n",
      "Epoch 16 : [.....................] - Train Loss : 0.0014 - Train Accuracy : 0.9996 - Val Loss : 0.0322 - Val Accuracy : 0.9933\n",
      "\n",
      "Epoch 17 : [.....................] - Train Loss : 0.0021 - Train Accuracy : 0.9996 - Val Loss : 0.0271 - Val Accuracy : 0.9939\n",
      "\n",
      "Epoch 18 : [.....................] - Train Loss : 0.0003 - Train Accuracy : 0.9999 - Val Loss : 0.0284 - Val Accuracy : 0.9945\n",
      "\n",
      "Epoch 19 : [.....................] - Train Loss : 0.0001 - Train Accuracy : 1.0 - Val Loss : 0.0268 - Val Accuracy : 0.9952\n",
      "\n",
      "Epoch 20 : [.....................] - Train Loss : 0.0 - Train Accuracy : 1.0 - Val Loss : 0.0262 - Val Accuracy : 0.9953\n",
      "\n",
      "Epoch 21 : [.....................] - Train Loss : 0.0 - Train Accuracy : 1.0 - Val Loss : 0.0261 - Val Accuracy : 0.9953\n",
      "\n",
      "Epoch 22 : [.....................] - Train Loss : 0.0 - Train Accuracy : 1.0 - Val Loss : 0.0261 - Val Accuracy : 0.9953\n",
      "\n",
      "Epoch 23 : [.....................] - Train Loss : 0.0 - Train Accuracy : 1.0 - Val Loss : 0.0261 - Val Accuracy : 0.9953\n",
      "\n",
      "Epoch 24 : [.....................] - Train Loss : 0.0 - Train Accuracy : 1.0 - Val Loss : 0.0261 - Val Accuracy : 0.9953\n",
      "\n",
      "Epoch 25 : [.....................] - Train Loss : 0.0 - Train Accuracy : 1.0 - Val Loss : 0.0261 - Val Accuracy : 0.9953\n",
      "CPU times: total: 53min 49s\n",
      "Wall time: 8min 38s\n"
     ]
    }
   ],
   "source": [
    "%%time\n",
    "history = train_model(model,optimizer=torch.optim.Adam,epochs=25,steps_per_epochs=200,l2_reg=0,max_lr=0.015,grad_clip=0.5)"
   ]
  },
  {
   "cell_type": "code",
   "execution_count": 22,
   "metadata": {},
   "outputs": [
    {
     "data": {
      "text/html": [
       "<div>\n",
       "<style scoped>\n",
       "    .dataframe tbody tr th:only-of-type {\n",
       "        vertical-align: middle;\n",
       "    }\n",
       "\n",
       "    .dataframe tbody tr th {\n",
       "        vertical-align: top;\n",
       "    }\n",
       "\n",
       "    .dataframe thead th {\n",
       "        text-align: right;\n",
       "    }\n",
       "</style>\n",
       "<table border=\"1\" class=\"dataframe\">\n",
       "  <thead>\n",
       "    <tr style=\"text-align: right;\">\n",
       "      <th></th>\n",
       "      <th>Train Loss</th>\n",
       "      <th>Val Loss</th>\n",
       "      <th>Train Accuracy</th>\n",
       "      <th>Val Accuracy</th>\n",
       "    </tr>\n",
       "  </thead>\n",
       "  <tbody>\n",
       "    <tr>\n",
       "      <th>0</th>\n",
       "      <td>0.438050</td>\n",
       "      <td>0.459726</td>\n",
       "      <td>0.893475</td>\n",
       "      <td>0.887526</td>\n",
       "    </tr>\n",
       "    <tr>\n",
       "      <th>1</th>\n",
       "      <td>0.143127</td>\n",
       "      <td>0.174719</td>\n",
       "      <td>0.959075</td>\n",
       "      <td>0.948738</td>\n",
       "    </tr>\n",
       "    <tr>\n",
       "      <th>2</th>\n",
       "      <td>0.146756</td>\n",
       "      <td>0.188100</td>\n",
       "      <td>0.950750</td>\n",
       "      <td>0.941246</td>\n",
       "    </tr>\n",
       "    <tr>\n",
       "      <th>3</th>\n",
       "      <td>0.150953</td>\n",
       "      <td>0.189751</td>\n",
       "      <td>0.956200</td>\n",
       "      <td>0.948360</td>\n",
       "    </tr>\n",
       "    <tr>\n",
       "      <th>4</th>\n",
       "      <td>0.050937</td>\n",
       "      <td>0.077362</td>\n",
       "      <td>0.983650</td>\n",
       "      <td>0.975515</td>\n",
       "    </tr>\n",
       "    <tr>\n",
       "      <th>5</th>\n",
       "      <td>0.039496</td>\n",
       "      <td>0.071046</td>\n",
       "      <td>0.988525</td>\n",
       "      <td>0.979675</td>\n",
       "    </tr>\n",
       "    <tr>\n",
       "      <th>6</th>\n",
       "      <td>0.040039</td>\n",
       "      <td>0.067432</td>\n",
       "      <td>0.986975</td>\n",
       "      <td>0.979462</td>\n",
       "    </tr>\n",
       "    <tr>\n",
       "      <th>7</th>\n",
       "      <td>0.066905</td>\n",
       "      <td>0.103894</td>\n",
       "      <td>0.978650</td>\n",
       "      <td>0.970812</td>\n",
       "    </tr>\n",
       "    <tr>\n",
       "      <th>8</th>\n",
       "      <td>0.023274</td>\n",
       "      <td>0.056496</td>\n",
       "      <td>0.992200</td>\n",
       "      <td>0.984614</td>\n",
       "    </tr>\n",
       "    <tr>\n",
       "      <th>9</th>\n",
       "      <td>0.009045</td>\n",
       "      <td>0.037605</td>\n",
       "      <td>0.996975</td>\n",
       "      <td>0.990476</td>\n",
       "    </tr>\n",
       "    <tr>\n",
       "      <th>10</th>\n",
       "      <td>0.046111</td>\n",
       "      <td>0.084805</td>\n",
       "      <td>0.986975</td>\n",
       "      <td>0.978162</td>\n",
       "    </tr>\n",
       "    <tr>\n",
       "      <th>11</th>\n",
       "      <td>0.029626</td>\n",
       "      <td>0.067818</td>\n",
       "      <td>0.992825</td>\n",
       "      <td>0.984827</td>\n",
       "    </tr>\n",
       "    <tr>\n",
       "      <th>12</th>\n",
       "      <td>0.025663</td>\n",
       "      <td>0.058716</td>\n",
       "      <td>0.993375</td>\n",
       "      <td>0.986860</td>\n",
       "    </tr>\n",
       "    <tr>\n",
       "      <th>13</th>\n",
       "      <td>0.009817</td>\n",
       "      <td>0.044509</td>\n",
       "      <td>0.996650</td>\n",
       "      <td>0.988561</td>\n",
       "    </tr>\n",
       "    <tr>\n",
       "      <th>14</th>\n",
       "      <td>0.007017</td>\n",
       "      <td>0.046446</td>\n",
       "      <td>0.997825</td>\n",
       "      <td>0.989861</td>\n",
       "    </tr>\n",
       "    <tr>\n",
       "      <th>15</th>\n",
       "      <td>0.001365</td>\n",
       "      <td>0.032178</td>\n",
       "      <td>0.999575</td>\n",
       "      <td>0.993312</td>\n",
       "    </tr>\n",
       "    <tr>\n",
       "      <th>16</th>\n",
       "      <td>0.002051</td>\n",
       "      <td>0.027149</td>\n",
       "      <td>0.999600</td>\n",
       "      <td>0.993902</td>\n",
       "    </tr>\n",
       "    <tr>\n",
       "      <th>17</th>\n",
       "      <td>0.000306</td>\n",
       "      <td>0.028428</td>\n",
       "      <td>0.999950</td>\n",
       "      <td>0.994493</td>\n",
       "    </tr>\n",
       "    <tr>\n",
       "      <th>18</th>\n",
       "      <td>0.000062</td>\n",
       "      <td>0.026769</td>\n",
       "      <td>1.000000</td>\n",
       "      <td>0.995250</td>\n",
       "    </tr>\n",
       "    <tr>\n",
       "      <th>19</th>\n",
       "      <td>0.000039</td>\n",
       "      <td>0.026165</td>\n",
       "      <td>1.000000</td>\n",
       "      <td>0.995273</td>\n",
       "    </tr>\n",
       "    <tr>\n",
       "      <th>20</th>\n",
       "      <td>0.000033</td>\n",
       "      <td>0.026108</td>\n",
       "      <td>1.000000</td>\n",
       "      <td>0.995344</td>\n",
       "    </tr>\n",
       "    <tr>\n",
       "      <th>21</th>\n",
       "      <td>0.000031</td>\n",
       "      <td>0.026092</td>\n",
       "      <td>1.000000</td>\n",
       "      <td>0.995320</td>\n",
       "    </tr>\n",
       "    <tr>\n",
       "      <th>22</th>\n",
       "      <td>0.000029</td>\n",
       "      <td>0.026086</td>\n",
       "      <td>1.000000</td>\n",
       "      <td>0.995320</td>\n",
       "    </tr>\n",
       "    <tr>\n",
       "      <th>23</th>\n",
       "      <td>0.000029</td>\n",
       "      <td>0.026084</td>\n",
       "      <td>1.000000</td>\n",
       "      <td>0.995344</td>\n",
       "    </tr>\n",
       "    <tr>\n",
       "      <th>24</th>\n",
       "      <td>0.000029</td>\n",
       "      <td>0.026083</td>\n",
       "      <td>1.000000</td>\n",
       "      <td>0.995344</td>\n",
       "    </tr>\n",
       "  </tbody>\n",
       "</table>\n",
       "</div>"
      ],
      "text/plain": [
       "    Train Loss  Val Loss  Train Accuracy  Val Accuracy\n",
       "0     0.438050  0.459726        0.893475      0.887526\n",
       "1     0.143127  0.174719        0.959075      0.948738\n",
       "2     0.146756  0.188100        0.950750      0.941246\n",
       "3     0.150953  0.189751        0.956200      0.948360\n",
       "4     0.050937  0.077362        0.983650      0.975515\n",
       "5     0.039496  0.071046        0.988525      0.979675\n",
       "6     0.040039  0.067432        0.986975      0.979462\n",
       "7     0.066905  0.103894        0.978650      0.970812\n",
       "8     0.023274  0.056496        0.992200      0.984614\n",
       "9     0.009045  0.037605        0.996975      0.990476\n",
       "10    0.046111  0.084805        0.986975      0.978162\n",
       "11    0.029626  0.067818        0.992825      0.984827\n",
       "12    0.025663  0.058716        0.993375      0.986860\n",
       "13    0.009817  0.044509        0.996650      0.988561\n",
       "14    0.007017  0.046446        0.997825      0.989861\n",
       "15    0.001365  0.032178        0.999575      0.993312\n",
       "16    0.002051  0.027149        0.999600      0.993902\n",
       "17    0.000306  0.028428        0.999950      0.994493\n",
       "18    0.000062  0.026769        1.000000      0.995250\n",
       "19    0.000039  0.026165        1.000000      0.995273\n",
       "20    0.000033  0.026108        1.000000      0.995344\n",
       "21    0.000031  0.026092        1.000000      0.995320\n",
       "22    0.000029  0.026086        1.000000      0.995320\n",
       "23    0.000029  0.026084        1.000000      0.995344\n",
       "24    0.000029  0.026083        1.000000      0.995344"
      ]
     },
     "execution_count": 22,
     "metadata": {},
     "output_type": "execute_result"
    }
   ],
   "source": [
    "history"
   ]
  },
  {
   "cell_type": "code",
   "execution_count": 23,
   "metadata": {},
   "outputs": [
    {
     "data": {
      "application/vnd.plotly.v1+json": {
       "config": {
        "plotlyServerURL": "https://plot.ly"
       },
       "data": [
        {
         "hovertemplate": "variable=Train Loss<br>Epochs=%{x}<br>Loss=%{y}<extra></extra>",
         "legendgroup": "Train Loss",
         "line": {
          "color": "#636efa",
          "dash": "solid"
         },
         "marker": {
          "symbol": "circle"
         },
         "mode": "lines",
         "name": "Train Loss",
         "orientation": "v",
         "showlegend": true,
         "type": "scatter",
         "x": [
          0,
          1,
          2,
          3,
          4,
          5,
          6,
          7,
          8,
          9,
          10,
          11,
          12,
          13,
          14,
          15,
          16,
          17,
          18,
          19,
          20,
          21,
          22,
          23,
          24
         ],
         "xaxis": "x",
         "y": [
          0.43805015087127686,
          0.14312654733657837,
          0.14675556123256683,
          0.15095339715480804,
          0.050936631858348846,
          0.039495982229709625,
          0.04003853350877762,
          0.06690546125173569,
          0.02327352575957775,
          0.009045192040503025,
          0.04611072689294815,
          0.029625995084643364,
          0.02566327154636383,
          0.009817125275731087,
          0.007016976363956928,
          0.0013652904890477657,
          0.002051477786153555,
          0.00030625637737102807,
          0.00006230612052604556,
          0.00003891217056661844,
          0.00003339568502269685,
          0.00003074645792366937,
          0.000029440141588565893,
          0.000028925309379701503,
          0.000028832679163315333
         ],
         "yaxis": "y"
        },
        {
         "hovertemplate": "variable=Val Loss<br>Epochs=%{x}<br>Loss=%{y}<extra></extra>",
         "legendgroup": "Val Loss",
         "line": {
          "color": "#EF553B",
          "dash": "solid"
         },
         "marker": {
          "symbol": "circle"
         },
         "mode": "lines",
         "name": "Val Loss",
         "orientation": "v",
         "showlegend": true,
         "type": "scatter",
         "x": [
          0,
          1,
          2,
          3,
          4,
          5,
          6,
          7,
          8,
          9,
          10,
          11,
          12,
          13,
          14,
          15,
          16,
          17,
          18,
          19,
          20,
          21,
          22,
          23,
          24
         ],
         "xaxis": "x",
         "y": [
          0.4597255289554596,
          0.17471934854984283,
          0.1881001889705658,
          0.18975116312503815,
          0.07736234366893768,
          0.07104627043008804,
          0.06743201613426208,
          0.10389434546232224,
          0.05649590864777565,
          0.037604667246341705,
          0.08480507880449295,
          0.06781800091266632,
          0.05871569737792015,
          0.044509176164865494,
          0.04644639790058136,
          0.03217791020870209,
          0.02714855596423149,
          0.028428111225366592,
          0.02676868811249733,
          0.026164822280406952,
          0.02610834687948227,
          0.026092292740941048,
          0.02608630619943142,
          0.026083657518029213,
          0.026083361357450485
         ],
         "yaxis": "y"
        }
       ],
       "layout": {
        "legend": {
         "title": {
          "text": "variable"
         },
         "tracegroupgap": 0
        },
        "template": {
         "data": {
          "bar": [
           {
            "error_x": {
             "color": "#2a3f5f"
            },
            "error_y": {
             "color": "#2a3f5f"
            },
            "marker": {
             "line": {
              "color": "#E5ECF6",
              "width": 0.5
             },
             "pattern": {
              "fillmode": "overlay",
              "size": 10,
              "solidity": 0.2
             }
            },
            "type": "bar"
           }
          ],
          "barpolar": [
           {
            "marker": {
             "line": {
              "color": "#E5ECF6",
              "width": 0.5
             },
             "pattern": {
              "fillmode": "overlay",
              "size": 10,
              "solidity": 0.2
             }
            },
            "type": "barpolar"
           }
          ],
          "carpet": [
           {
            "aaxis": {
             "endlinecolor": "#2a3f5f",
             "gridcolor": "white",
             "linecolor": "white",
             "minorgridcolor": "white",
             "startlinecolor": "#2a3f5f"
            },
            "baxis": {
             "endlinecolor": "#2a3f5f",
             "gridcolor": "white",
             "linecolor": "white",
             "minorgridcolor": "white",
             "startlinecolor": "#2a3f5f"
            },
            "type": "carpet"
           }
          ],
          "choropleth": [
           {
            "colorbar": {
             "outlinewidth": 0,
             "ticks": ""
            },
            "type": "choropleth"
           }
          ],
          "contour": [
           {
            "colorbar": {
             "outlinewidth": 0,
             "ticks": ""
            },
            "colorscale": [
             [
              0,
              "#0d0887"
             ],
             [
              0.1111111111111111,
              "#46039f"
             ],
             [
              0.2222222222222222,
              "#7201a8"
             ],
             [
              0.3333333333333333,
              "#9c179e"
             ],
             [
              0.4444444444444444,
              "#bd3786"
             ],
             [
              0.5555555555555556,
              "#d8576b"
             ],
             [
              0.6666666666666666,
              "#ed7953"
             ],
             [
              0.7777777777777778,
              "#fb9f3a"
             ],
             [
              0.8888888888888888,
              "#fdca26"
             ],
             [
              1,
              "#f0f921"
             ]
            ],
            "type": "contour"
           }
          ],
          "contourcarpet": [
           {
            "colorbar": {
             "outlinewidth": 0,
             "ticks": ""
            },
            "type": "contourcarpet"
           }
          ],
          "heatmap": [
           {
            "colorbar": {
             "outlinewidth": 0,
             "ticks": ""
            },
            "colorscale": [
             [
              0,
              "#0d0887"
             ],
             [
              0.1111111111111111,
              "#46039f"
             ],
             [
              0.2222222222222222,
              "#7201a8"
             ],
             [
              0.3333333333333333,
              "#9c179e"
             ],
             [
              0.4444444444444444,
              "#bd3786"
             ],
             [
              0.5555555555555556,
              "#d8576b"
             ],
             [
              0.6666666666666666,
              "#ed7953"
             ],
             [
              0.7777777777777778,
              "#fb9f3a"
             ],
             [
              0.8888888888888888,
              "#fdca26"
             ],
             [
              1,
              "#f0f921"
             ]
            ],
            "type": "heatmap"
           }
          ],
          "heatmapgl": [
           {
            "colorbar": {
             "outlinewidth": 0,
             "ticks": ""
            },
            "colorscale": [
             [
              0,
              "#0d0887"
             ],
             [
              0.1111111111111111,
              "#46039f"
             ],
             [
              0.2222222222222222,
              "#7201a8"
             ],
             [
              0.3333333333333333,
              "#9c179e"
             ],
             [
              0.4444444444444444,
              "#bd3786"
             ],
             [
              0.5555555555555556,
              "#d8576b"
             ],
             [
              0.6666666666666666,
              "#ed7953"
             ],
             [
              0.7777777777777778,
              "#fb9f3a"
             ],
             [
              0.8888888888888888,
              "#fdca26"
             ],
             [
              1,
              "#f0f921"
             ]
            ],
            "type": "heatmapgl"
           }
          ],
          "histogram": [
           {
            "marker": {
             "pattern": {
              "fillmode": "overlay",
              "size": 10,
              "solidity": 0.2
             }
            },
            "type": "histogram"
           }
          ],
          "histogram2d": [
           {
            "colorbar": {
             "outlinewidth": 0,
             "ticks": ""
            },
            "colorscale": [
             [
              0,
              "#0d0887"
             ],
             [
              0.1111111111111111,
              "#46039f"
             ],
             [
              0.2222222222222222,
              "#7201a8"
             ],
             [
              0.3333333333333333,
              "#9c179e"
             ],
             [
              0.4444444444444444,
              "#bd3786"
             ],
             [
              0.5555555555555556,
              "#d8576b"
             ],
             [
              0.6666666666666666,
              "#ed7953"
             ],
             [
              0.7777777777777778,
              "#fb9f3a"
             ],
             [
              0.8888888888888888,
              "#fdca26"
             ],
             [
              1,
              "#f0f921"
             ]
            ],
            "type": "histogram2d"
           }
          ],
          "histogram2dcontour": [
           {
            "colorbar": {
             "outlinewidth": 0,
             "ticks": ""
            },
            "colorscale": [
             [
              0,
              "#0d0887"
             ],
             [
              0.1111111111111111,
              "#46039f"
             ],
             [
              0.2222222222222222,
              "#7201a8"
             ],
             [
              0.3333333333333333,
              "#9c179e"
             ],
             [
              0.4444444444444444,
              "#bd3786"
             ],
             [
              0.5555555555555556,
              "#d8576b"
             ],
             [
              0.6666666666666666,
              "#ed7953"
             ],
             [
              0.7777777777777778,
              "#fb9f3a"
             ],
             [
              0.8888888888888888,
              "#fdca26"
             ],
             [
              1,
              "#f0f921"
             ]
            ],
            "type": "histogram2dcontour"
           }
          ],
          "mesh3d": [
           {
            "colorbar": {
             "outlinewidth": 0,
             "ticks": ""
            },
            "type": "mesh3d"
           }
          ],
          "parcoords": [
           {
            "line": {
             "colorbar": {
              "outlinewidth": 0,
              "ticks": ""
             }
            },
            "type": "parcoords"
           }
          ],
          "pie": [
           {
            "automargin": true,
            "type": "pie"
           }
          ],
          "scatter": [
           {
            "fillpattern": {
             "fillmode": "overlay",
             "size": 10,
             "solidity": 0.2
            },
            "type": "scatter"
           }
          ],
          "scatter3d": [
           {
            "line": {
             "colorbar": {
              "outlinewidth": 0,
              "ticks": ""
             }
            },
            "marker": {
             "colorbar": {
              "outlinewidth": 0,
              "ticks": ""
             }
            },
            "type": "scatter3d"
           }
          ],
          "scattercarpet": [
           {
            "marker": {
             "colorbar": {
              "outlinewidth": 0,
              "ticks": ""
             }
            },
            "type": "scattercarpet"
           }
          ],
          "scattergeo": [
           {
            "marker": {
             "colorbar": {
              "outlinewidth": 0,
              "ticks": ""
             }
            },
            "type": "scattergeo"
           }
          ],
          "scattergl": [
           {
            "marker": {
             "colorbar": {
              "outlinewidth": 0,
              "ticks": ""
             }
            },
            "type": "scattergl"
           }
          ],
          "scattermapbox": [
           {
            "marker": {
             "colorbar": {
              "outlinewidth": 0,
              "ticks": ""
             }
            },
            "type": "scattermapbox"
           }
          ],
          "scatterpolar": [
           {
            "marker": {
             "colorbar": {
              "outlinewidth": 0,
              "ticks": ""
             }
            },
            "type": "scatterpolar"
           }
          ],
          "scatterpolargl": [
           {
            "marker": {
             "colorbar": {
              "outlinewidth": 0,
              "ticks": ""
             }
            },
            "type": "scatterpolargl"
           }
          ],
          "scatterternary": [
           {
            "marker": {
             "colorbar": {
              "outlinewidth": 0,
              "ticks": ""
             }
            },
            "type": "scatterternary"
           }
          ],
          "surface": [
           {
            "colorbar": {
             "outlinewidth": 0,
             "ticks": ""
            },
            "colorscale": [
             [
              0,
              "#0d0887"
             ],
             [
              0.1111111111111111,
              "#46039f"
             ],
             [
              0.2222222222222222,
              "#7201a8"
             ],
             [
              0.3333333333333333,
              "#9c179e"
             ],
             [
              0.4444444444444444,
              "#bd3786"
             ],
             [
              0.5555555555555556,
              "#d8576b"
             ],
             [
              0.6666666666666666,
              "#ed7953"
             ],
             [
              0.7777777777777778,
              "#fb9f3a"
             ],
             [
              0.8888888888888888,
              "#fdca26"
             ],
             [
              1,
              "#f0f921"
             ]
            ],
            "type": "surface"
           }
          ],
          "table": [
           {
            "cells": {
             "fill": {
              "color": "#EBF0F8"
             },
             "line": {
              "color": "white"
             }
            },
            "header": {
             "fill": {
              "color": "#C8D4E3"
             },
             "line": {
              "color": "white"
             }
            },
            "type": "table"
           }
          ]
         },
         "layout": {
          "annotationdefaults": {
           "arrowcolor": "#2a3f5f",
           "arrowhead": 0,
           "arrowwidth": 1
          },
          "autotypenumbers": "strict",
          "coloraxis": {
           "colorbar": {
            "outlinewidth": 0,
            "ticks": ""
           }
          },
          "colorscale": {
           "diverging": [
            [
             0,
             "#8e0152"
            ],
            [
             0.1,
             "#c51b7d"
            ],
            [
             0.2,
             "#de77ae"
            ],
            [
             0.3,
             "#f1b6da"
            ],
            [
             0.4,
             "#fde0ef"
            ],
            [
             0.5,
             "#f7f7f7"
            ],
            [
             0.6,
             "#e6f5d0"
            ],
            [
             0.7,
             "#b8e186"
            ],
            [
             0.8,
             "#7fbc41"
            ],
            [
             0.9,
             "#4d9221"
            ],
            [
             1,
             "#276419"
            ]
           ],
           "sequential": [
            [
             0,
             "#0d0887"
            ],
            [
             0.1111111111111111,
             "#46039f"
            ],
            [
             0.2222222222222222,
             "#7201a8"
            ],
            [
             0.3333333333333333,
             "#9c179e"
            ],
            [
             0.4444444444444444,
             "#bd3786"
            ],
            [
             0.5555555555555556,
             "#d8576b"
            ],
            [
             0.6666666666666666,
             "#ed7953"
            ],
            [
             0.7777777777777778,
             "#fb9f3a"
            ],
            [
             0.8888888888888888,
             "#fdca26"
            ],
            [
             1,
             "#f0f921"
            ]
           ],
           "sequentialminus": [
            [
             0,
             "#0d0887"
            ],
            [
             0.1111111111111111,
             "#46039f"
            ],
            [
             0.2222222222222222,
             "#7201a8"
            ],
            [
             0.3333333333333333,
             "#9c179e"
            ],
            [
             0.4444444444444444,
             "#bd3786"
            ],
            [
             0.5555555555555556,
             "#d8576b"
            ],
            [
             0.6666666666666666,
             "#ed7953"
            ],
            [
             0.7777777777777778,
             "#fb9f3a"
            ],
            [
             0.8888888888888888,
             "#fdca26"
            ],
            [
             1,
             "#f0f921"
            ]
           ]
          },
          "colorway": [
           "#636efa",
           "#EF553B",
           "#00cc96",
           "#ab63fa",
           "#FFA15A",
           "#19d3f3",
           "#FF6692",
           "#B6E880",
           "#FF97FF",
           "#FECB52"
          ],
          "font": {
           "color": "#2a3f5f"
          },
          "geo": {
           "bgcolor": "white",
           "lakecolor": "white",
           "landcolor": "#E5ECF6",
           "showlakes": true,
           "showland": true,
           "subunitcolor": "white"
          },
          "hoverlabel": {
           "align": "left"
          },
          "hovermode": "closest",
          "mapbox": {
           "style": "light"
          },
          "paper_bgcolor": "white",
          "plot_bgcolor": "#E5ECF6",
          "polar": {
           "angularaxis": {
            "gridcolor": "white",
            "linecolor": "white",
            "ticks": ""
           },
           "bgcolor": "#E5ECF6",
           "radialaxis": {
            "gridcolor": "white",
            "linecolor": "white",
            "ticks": ""
           }
          },
          "scene": {
           "xaxis": {
            "backgroundcolor": "#E5ECF6",
            "gridcolor": "white",
            "gridwidth": 2,
            "linecolor": "white",
            "showbackground": true,
            "ticks": "",
            "zerolinecolor": "white"
           },
           "yaxis": {
            "backgroundcolor": "#E5ECF6",
            "gridcolor": "white",
            "gridwidth": 2,
            "linecolor": "white",
            "showbackground": true,
            "ticks": "",
            "zerolinecolor": "white"
           },
           "zaxis": {
            "backgroundcolor": "#E5ECF6",
            "gridcolor": "white",
            "gridwidth": 2,
            "linecolor": "white",
            "showbackground": true,
            "ticks": "",
            "zerolinecolor": "white"
           }
          },
          "shapedefaults": {
           "line": {
            "color": "#2a3f5f"
           }
          },
          "ternary": {
           "aaxis": {
            "gridcolor": "white",
            "linecolor": "white",
            "ticks": ""
           },
           "baxis": {
            "gridcolor": "white",
            "linecolor": "white",
            "ticks": ""
           },
           "bgcolor": "#E5ECF6",
           "caxis": {
            "gridcolor": "white",
            "linecolor": "white",
            "ticks": ""
           }
          },
          "title": {
           "x": 0.05
          },
          "xaxis": {
           "automargin": true,
           "gridcolor": "white",
           "linecolor": "white",
           "ticks": "",
           "title": {
            "standoff": 15
           },
           "zerolinecolor": "white",
           "zerolinewidth": 2
          },
          "yaxis": {
           "automargin": true,
           "gridcolor": "white",
           "linecolor": "white",
           "ticks": "",
           "title": {
            "standoff": 15
           },
           "zerolinecolor": "white",
           "zerolinewidth": 2
          }
         }
        },
        "title": {
         "font": {
          "family": "Georgia",
          "size": 23
         },
         "text": "Loss Per Epochs",
         "x": 0.5
        },
        "xaxis": {
         "anchor": "y",
         "domain": [
          0,
          1
         ],
         "title": {
          "text": "Epochs"
         }
        },
        "yaxis": {
         "anchor": "x",
         "domain": [
          0,
          1
         ],
         "title": {
          "text": "Loss"
         }
        }
       }
      }
     },
     "metadata": {},
     "output_type": "display_data"
    },
    {
     "data": {
      "application/vnd.plotly.v1+json": {
       "config": {
        "plotlyServerURL": "https://plot.ly"
       },
       "data": [
        {
         "hovertemplate": "variable=Train Accuracy<br>Epochs=%{x}<br>Accuracy=%{y}<extra></extra>",
         "legendgroup": "Train Accuracy",
         "line": {
          "color": "#636efa",
          "dash": "solid"
         },
         "marker": {
          "symbol": "circle"
         },
         "mode": "lines",
         "name": "Train Accuracy",
         "orientation": "v",
         "showlegend": true,
         "type": "scatter",
         "x": [
          0,
          1,
          2,
          3,
          4,
          5,
          6,
          7,
          8,
          9,
          10,
          11,
          12,
          13,
          14,
          15,
          16,
          17,
          18,
          19,
          20,
          21,
          22,
          23,
          24
         ],
         "xaxis": "x",
         "y": [
          0.8934749960899353,
          0.9590749740600586,
          0.9507499933242798,
          0.9562000036239624,
          0.9836500287055969,
          0.9885249733924866,
          0.9869750142097473,
          0.9786499738693237,
          0.9922000169754028,
          0.9969750046730042,
          0.9869750142097473,
          0.9928249716758728,
          0.9933750033378601,
          0.996649980545044,
          0.997825026512146,
          0.9995750188827515,
          0.9995999932289124,
          0.9999499917030334,
          1,
          1,
          1,
          1,
          1,
          1,
          1
         ],
         "yaxis": "y"
        },
        {
         "hovertemplate": "variable=Val Accuracy<br>Epochs=%{x}<br>Accuracy=%{y}<extra></extra>",
         "legendgroup": "Val Accuracy",
         "line": {
          "color": "#EF553B",
          "dash": "solid"
         },
         "marker": {
          "symbol": "circle"
         },
         "mode": "lines",
         "name": "Val Accuracy",
         "orientation": "v",
         "showlegend": true,
         "type": "scatter",
         "x": [
          0,
          1,
          2,
          3,
          4,
          5,
          6,
          7,
          8,
          9,
          10,
          11,
          12,
          13,
          14,
          15,
          16,
          17,
          18,
          19,
          20,
          21,
          22,
          23,
          24
         ],
         "xaxis": "x",
         "y": [
          0.8875259757041931,
          0.9487379193305969,
          0.941245973110199,
          0.9483597874641418,
          0.9755152463912964,
          0.9796748161315918,
          0.9794620871543884,
          0.9708120822906494,
          0.9846143126487732,
          0.9904755353927612,
          0.9781622290611267,
          0.9848269820213318,
          0.9868595004081726,
          0.9885611534118652,
          0.989861011505127,
          0.9933115839958191,
          0.9939024448394775,
          0.994493305683136,
          0.9952495694160461,
          0.995273232460022,
          0.9953441023826599,
          0.9953204989433289,
          0.9953204989433289,
          0.9953441023826599,
          0.9953441023826599
         ],
         "yaxis": "y"
        }
       ],
       "layout": {
        "legend": {
         "title": {
          "text": "variable"
         },
         "tracegroupgap": 0
        },
        "template": {
         "data": {
          "bar": [
           {
            "error_x": {
             "color": "#2a3f5f"
            },
            "error_y": {
             "color": "#2a3f5f"
            },
            "marker": {
             "line": {
              "color": "#E5ECF6",
              "width": 0.5
             },
             "pattern": {
              "fillmode": "overlay",
              "size": 10,
              "solidity": 0.2
             }
            },
            "type": "bar"
           }
          ],
          "barpolar": [
           {
            "marker": {
             "line": {
              "color": "#E5ECF6",
              "width": 0.5
             },
             "pattern": {
              "fillmode": "overlay",
              "size": 10,
              "solidity": 0.2
             }
            },
            "type": "barpolar"
           }
          ],
          "carpet": [
           {
            "aaxis": {
             "endlinecolor": "#2a3f5f",
             "gridcolor": "white",
             "linecolor": "white",
             "minorgridcolor": "white",
             "startlinecolor": "#2a3f5f"
            },
            "baxis": {
             "endlinecolor": "#2a3f5f",
             "gridcolor": "white",
             "linecolor": "white",
             "minorgridcolor": "white",
             "startlinecolor": "#2a3f5f"
            },
            "type": "carpet"
           }
          ],
          "choropleth": [
           {
            "colorbar": {
             "outlinewidth": 0,
             "ticks": ""
            },
            "type": "choropleth"
           }
          ],
          "contour": [
           {
            "colorbar": {
             "outlinewidth": 0,
             "ticks": ""
            },
            "colorscale": [
             [
              0,
              "#0d0887"
             ],
             [
              0.1111111111111111,
              "#46039f"
             ],
             [
              0.2222222222222222,
              "#7201a8"
             ],
             [
              0.3333333333333333,
              "#9c179e"
             ],
             [
              0.4444444444444444,
              "#bd3786"
             ],
             [
              0.5555555555555556,
              "#d8576b"
             ],
             [
              0.6666666666666666,
              "#ed7953"
             ],
             [
              0.7777777777777778,
              "#fb9f3a"
             ],
             [
              0.8888888888888888,
              "#fdca26"
             ],
             [
              1,
              "#f0f921"
             ]
            ],
            "type": "contour"
           }
          ],
          "contourcarpet": [
           {
            "colorbar": {
             "outlinewidth": 0,
             "ticks": ""
            },
            "type": "contourcarpet"
           }
          ],
          "heatmap": [
           {
            "colorbar": {
             "outlinewidth": 0,
             "ticks": ""
            },
            "colorscale": [
             [
              0,
              "#0d0887"
             ],
             [
              0.1111111111111111,
              "#46039f"
             ],
             [
              0.2222222222222222,
              "#7201a8"
             ],
             [
              0.3333333333333333,
              "#9c179e"
             ],
             [
              0.4444444444444444,
              "#bd3786"
             ],
             [
              0.5555555555555556,
              "#d8576b"
             ],
             [
              0.6666666666666666,
              "#ed7953"
             ],
             [
              0.7777777777777778,
              "#fb9f3a"
             ],
             [
              0.8888888888888888,
              "#fdca26"
             ],
             [
              1,
              "#f0f921"
             ]
            ],
            "type": "heatmap"
           }
          ],
          "heatmapgl": [
           {
            "colorbar": {
             "outlinewidth": 0,
             "ticks": ""
            },
            "colorscale": [
             [
              0,
              "#0d0887"
             ],
             [
              0.1111111111111111,
              "#46039f"
             ],
             [
              0.2222222222222222,
              "#7201a8"
             ],
             [
              0.3333333333333333,
              "#9c179e"
             ],
             [
              0.4444444444444444,
              "#bd3786"
             ],
             [
              0.5555555555555556,
              "#d8576b"
             ],
             [
              0.6666666666666666,
              "#ed7953"
             ],
             [
              0.7777777777777778,
              "#fb9f3a"
             ],
             [
              0.8888888888888888,
              "#fdca26"
             ],
             [
              1,
              "#f0f921"
             ]
            ],
            "type": "heatmapgl"
           }
          ],
          "histogram": [
           {
            "marker": {
             "pattern": {
              "fillmode": "overlay",
              "size": 10,
              "solidity": 0.2
             }
            },
            "type": "histogram"
           }
          ],
          "histogram2d": [
           {
            "colorbar": {
             "outlinewidth": 0,
             "ticks": ""
            },
            "colorscale": [
             [
              0,
              "#0d0887"
             ],
             [
              0.1111111111111111,
              "#46039f"
             ],
             [
              0.2222222222222222,
              "#7201a8"
             ],
             [
              0.3333333333333333,
              "#9c179e"
             ],
             [
              0.4444444444444444,
              "#bd3786"
             ],
             [
              0.5555555555555556,
              "#d8576b"
             ],
             [
              0.6666666666666666,
              "#ed7953"
             ],
             [
              0.7777777777777778,
              "#fb9f3a"
             ],
             [
              0.8888888888888888,
              "#fdca26"
             ],
             [
              1,
              "#f0f921"
             ]
            ],
            "type": "histogram2d"
           }
          ],
          "histogram2dcontour": [
           {
            "colorbar": {
             "outlinewidth": 0,
             "ticks": ""
            },
            "colorscale": [
             [
              0,
              "#0d0887"
             ],
             [
              0.1111111111111111,
              "#46039f"
             ],
             [
              0.2222222222222222,
              "#7201a8"
             ],
             [
              0.3333333333333333,
              "#9c179e"
             ],
             [
              0.4444444444444444,
              "#bd3786"
             ],
             [
              0.5555555555555556,
              "#d8576b"
             ],
             [
              0.6666666666666666,
              "#ed7953"
             ],
             [
              0.7777777777777778,
              "#fb9f3a"
             ],
             [
              0.8888888888888888,
              "#fdca26"
             ],
             [
              1,
              "#f0f921"
             ]
            ],
            "type": "histogram2dcontour"
           }
          ],
          "mesh3d": [
           {
            "colorbar": {
             "outlinewidth": 0,
             "ticks": ""
            },
            "type": "mesh3d"
           }
          ],
          "parcoords": [
           {
            "line": {
             "colorbar": {
              "outlinewidth": 0,
              "ticks": ""
             }
            },
            "type": "parcoords"
           }
          ],
          "pie": [
           {
            "automargin": true,
            "type": "pie"
           }
          ],
          "scatter": [
           {
            "fillpattern": {
             "fillmode": "overlay",
             "size": 10,
             "solidity": 0.2
            },
            "type": "scatter"
           }
          ],
          "scatter3d": [
           {
            "line": {
             "colorbar": {
              "outlinewidth": 0,
              "ticks": ""
             }
            },
            "marker": {
             "colorbar": {
              "outlinewidth": 0,
              "ticks": ""
             }
            },
            "type": "scatter3d"
           }
          ],
          "scattercarpet": [
           {
            "marker": {
             "colorbar": {
              "outlinewidth": 0,
              "ticks": ""
             }
            },
            "type": "scattercarpet"
           }
          ],
          "scattergeo": [
           {
            "marker": {
             "colorbar": {
              "outlinewidth": 0,
              "ticks": ""
             }
            },
            "type": "scattergeo"
           }
          ],
          "scattergl": [
           {
            "marker": {
             "colorbar": {
              "outlinewidth": 0,
              "ticks": ""
             }
            },
            "type": "scattergl"
           }
          ],
          "scattermapbox": [
           {
            "marker": {
             "colorbar": {
              "outlinewidth": 0,
              "ticks": ""
             }
            },
            "type": "scattermapbox"
           }
          ],
          "scatterpolar": [
           {
            "marker": {
             "colorbar": {
              "outlinewidth": 0,
              "ticks": ""
             }
            },
            "type": "scatterpolar"
           }
          ],
          "scatterpolargl": [
           {
            "marker": {
             "colorbar": {
              "outlinewidth": 0,
              "ticks": ""
             }
            },
            "type": "scatterpolargl"
           }
          ],
          "scatterternary": [
           {
            "marker": {
             "colorbar": {
              "outlinewidth": 0,
              "ticks": ""
             }
            },
            "type": "scatterternary"
           }
          ],
          "surface": [
           {
            "colorbar": {
             "outlinewidth": 0,
             "ticks": ""
            },
            "colorscale": [
             [
              0,
              "#0d0887"
             ],
             [
              0.1111111111111111,
              "#46039f"
             ],
             [
              0.2222222222222222,
              "#7201a8"
             ],
             [
              0.3333333333333333,
              "#9c179e"
             ],
             [
              0.4444444444444444,
              "#bd3786"
             ],
             [
              0.5555555555555556,
              "#d8576b"
             ],
             [
              0.6666666666666666,
              "#ed7953"
             ],
             [
              0.7777777777777778,
              "#fb9f3a"
             ],
             [
              0.8888888888888888,
              "#fdca26"
             ],
             [
              1,
              "#f0f921"
             ]
            ],
            "type": "surface"
           }
          ],
          "table": [
           {
            "cells": {
             "fill": {
              "color": "#EBF0F8"
             },
             "line": {
              "color": "white"
             }
            },
            "header": {
             "fill": {
              "color": "#C8D4E3"
             },
             "line": {
              "color": "white"
             }
            },
            "type": "table"
           }
          ]
         },
         "layout": {
          "annotationdefaults": {
           "arrowcolor": "#2a3f5f",
           "arrowhead": 0,
           "arrowwidth": 1
          },
          "autotypenumbers": "strict",
          "coloraxis": {
           "colorbar": {
            "outlinewidth": 0,
            "ticks": ""
           }
          },
          "colorscale": {
           "diverging": [
            [
             0,
             "#8e0152"
            ],
            [
             0.1,
             "#c51b7d"
            ],
            [
             0.2,
             "#de77ae"
            ],
            [
             0.3,
             "#f1b6da"
            ],
            [
             0.4,
             "#fde0ef"
            ],
            [
             0.5,
             "#f7f7f7"
            ],
            [
             0.6,
             "#e6f5d0"
            ],
            [
             0.7,
             "#b8e186"
            ],
            [
             0.8,
             "#7fbc41"
            ],
            [
             0.9,
             "#4d9221"
            ],
            [
             1,
             "#276419"
            ]
           ],
           "sequential": [
            [
             0,
             "#0d0887"
            ],
            [
             0.1111111111111111,
             "#46039f"
            ],
            [
             0.2222222222222222,
             "#7201a8"
            ],
            [
             0.3333333333333333,
             "#9c179e"
            ],
            [
             0.4444444444444444,
             "#bd3786"
            ],
            [
             0.5555555555555556,
             "#d8576b"
            ],
            [
             0.6666666666666666,
             "#ed7953"
            ],
            [
             0.7777777777777778,
             "#fb9f3a"
            ],
            [
             0.8888888888888888,
             "#fdca26"
            ],
            [
             1,
             "#f0f921"
            ]
           ],
           "sequentialminus": [
            [
             0,
             "#0d0887"
            ],
            [
             0.1111111111111111,
             "#46039f"
            ],
            [
             0.2222222222222222,
             "#7201a8"
            ],
            [
             0.3333333333333333,
             "#9c179e"
            ],
            [
             0.4444444444444444,
             "#bd3786"
            ],
            [
             0.5555555555555556,
             "#d8576b"
            ],
            [
             0.6666666666666666,
             "#ed7953"
            ],
            [
             0.7777777777777778,
             "#fb9f3a"
            ],
            [
             0.8888888888888888,
             "#fdca26"
            ],
            [
             1,
             "#f0f921"
            ]
           ]
          },
          "colorway": [
           "#636efa",
           "#EF553B",
           "#00cc96",
           "#ab63fa",
           "#FFA15A",
           "#19d3f3",
           "#FF6692",
           "#B6E880",
           "#FF97FF",
           "#FECB52"
          ],
          "font": {
           "color": "#2a3f5f"
          },
          "geo": {
           "bgcolor": "white",
           "lakecolor": "white",
           "landcolor": "#E5ECF6",
           "showlakes": true,
           "showland": true,
           "subunitcolor": "white"
          },
          "hoverlabel": {
           "align": "left"
          },
          "hovermode": "closest",
          "mapbox": {
           "style": "light"
          },
          "paper_bgcolor": "white",
          "plot_bgcolor": "#E5ECF6",
          "polar": {
           "angularaxis": {
            "gridcolor": "white",
            "linecolor": "white",
            "ticks": ""
           },
           "bgcolor": "#E5ECF6",
           "radialaxis": {
            "gridcolor": "white",
            "linecolor": "white",
            "ticks": ""
           }
          },
          "scene": {
           "xaxis": {
            "backgroundcolor": "#E5ECF6",
            "gridcolor": "white",
            "gridwidth": 2,
            "linecolor": "white",
            "showbackground": true,
            "ticks": "",
            "zerolinecolor": "white"
           },
           "yaxis": {
            "backgroundcolor": "#E5ECF6",
            "gridcolor": "white",
            "gridwidth": 2,
            "linecolor": "white",
            "showbackground": true,
            "ticks": "",
            "zerolinecolor": "white"
           },
           "zaxis": {
            "backgroundcolor": "#E5ECF6",
            "gridcolor": "white",
            "gridwidth": 2,
            "linecolor": "white",
            "showbackground": true,
            "ticks": "",
            "zerolinecolor": "white"
           }
          },
          "shapedefaults": {
           "line": {
            "color": "#2a3f5f"
           }
          },
          "ternary": {
           "aaxis": {
            "gridcolor": "white",
            "linecolor": "white",
            "ticks": ""
           },
           "baxis": {
            "gridcolor": "white",
            "linecolor": "white",
            "ticks": ""
           },
           "bgcolor": "#E5ECF6",
           "caxis": {
            "gridcolor": "white",
            "linecolor": "white",
            "ticks": ""
           }
          },
          "title": {
           "x": 0.05
          },
          "xaxis": {
           "automargin": true,
           "gridcolor": "white",
           "linecolor": "white",
           "ticks": "",
           "title": {
            "standoff": 15
           },
           "zerolinecolor": "white",
           "zerolinewidth": 2
          },
          "yaxis": {
           "automargin": true,
           "gridcolor": "white",
           "linecolor": "white",
           "ticks": "",
           "title": {
            "standoff": 15
           },
           "zerolinecolor": "white",
           "zerolinewidth": 2
          }
         }
        },
        "title": {
         "font": {
          "family": "Georgia",
          "size": 23
         },
         "text": "Accuracy Per Epochs",
         "x": 0.5
        },
        "xaxis": {
         "anchor": "y",
         "domain": [
          0,
          1
         ],
         "title": {
          "text": "Epochs"
         }
        },
        "yaxis": {
         "anchor": "x",
         "domain": [
          0,
          1
         ],
         "title": {
          "text": "Accuracy"
         }
        }
       }
      }
     },
     "metadata": {},
     "output_type": "display_data"
    }
   ],
   "source": [
    "# used plotly for interactive plotting\n",
    "fig = px.line(history.iloc[:,:2],title='Loss Per Epochs',labels={'value':'Loss','index':'Epochs'})\n",
    "fig.update_layout(title={'font_family':'Georgia','font_size':23,'x':0.5}).show()\n",
    "fig = px.line(history.iloc[:,2:],title='Accuracy Per Epochs',labels={'value':'Accuracy','index':'Epochs'})\n",
    "fig.update_layout(title={'font_family':'Georgia','font_size':23,'x':0.5}).show() "
   ]
  },
  {
   "cell_type": "code",
   "execution_count": 24,
   "metadata": {},
   "outputs": [
    {
     "name": "stdout",
     "output_type": "stream",
     "text": [
      "              precision    recall  f1-score   support\n",
      "\n",
      "           0       1.00      1.00      1.00       984\n",
      "           1       0.99      0.98      0.99       984\n",
      "           2       0.98      0.99      0.98       984\n",
      "           3       0.99      0.99      0.99       984\n",
      "           4       0.99      0.99      0.99       984\n",
      "           5       0.97      0.96      0.97       984\n",
      "           6       1.00      1.00      1.00       984\n",
      "           7       0.98      0.97      0.98       984\n",
      "           8       0.98      0.99      0.98       984\n",
      "           9       1.00      0.99      1.00       984\n",
      "          10       1.00      1.00      1.00       984\n",
      "          11       1.00      1.00      1.00       984\n",
      "          12       0.98      0.99      0.99       984\n",
      "          13       1.00      1.00      1.00       984\n",
      "          14       1.00      1.00      1.00       984\n",
      "          15       0.99      1.00      1.00       984\n",
      "          16       1.00      1.00      1.00       984\n",
      "          17       1.00      1.00      1.00       984\n",
      "          18       1.00      1.00      1.00       984\n",
      "          19       1.00      0.99      1.00       984\n",
      "          20       1.00      1.00      1.00       984\n",
      "          21       1.00      1.00      1.00       984\n",
      "          22       1.00      1.00      1.00       984\n",
      "          23       0.99      1.00      1.00       984\n",
      "          24       1.00      0.99      1.00       984\n",
      "          25       1.00      0.99      0.99       984\n",
      "          26       0.99      1.00      0.99       984\n",
      "          27       1.00      1.00      1.00       984\n",
      "          28       1.00      1.00      1.00       984\n",
      "          29       1.00      1.00      1.00       984\n",
      "          30       1.00      0.99      1.00       984\n",
      "          31       1.00      1.00      1.00       984\n",
      "          32       1.00      1.00      1.00       984\n",
      "          33       1.00      1.00      1.00       984\n",
      "          34       1.00      1.00      1.00       984\n",
      "          35       1.00      1.00      1.00       984\n",
      "          36       1.00      1.00      1.00       984\n",
      "          37       1.00      1.00      1.00       984\n",
      "          38       1.00      0.99      0.99       984\n",
      "          39       1.00      1.00      1.00       984\n",
      "          40       1.00      1.00      1.00       984\n",
      "          41       1.00      1.00      1.00       984\n",
      "          42       1.00      1.00      1.00       984\n",
      "\n",
      "    accuracy                           1.00     42312\n",
      "   macro avg       1.00      1.00      1.00     42312\n",
      "weighted avg       1.00      1.00      1.00     42312\n",
      "\n"
     ]
    }
   ],
   "source": [
    "# generate predictions\n",
    "ypred = model(xtest.float()).argmax(axis=1)\n",
    "# again move back xtest , ypred to cpu\n",
    "xtest = xtest.to(torch.device('cpu'),non_blocking=True)\n",
    "ypred = ypred.to(torch.device('cpu'),non_blocking=True)\n",
    "# calculate the classification metrices and print result \n",
    "print(classification_report(ytest,ypred))"
   ]
  },
  {
   "cell_type": "code",
   "execution_count": 28,
   "metadata": {},
   "outputs": [],
   "source": [
    "def prediction(img):\n",
    "    if type(img) == str:\n",
    "        # PIL load the image as PIL object and ToTensor() convert this to a Tensor\n",
    "        img = tv.transforms.ToTensor()(PIL.Image.open(img))\n",
    "    # resize image to 32X32 as model supports this\n",
    "    img = cv2.resize(img.permute(1,2,0).numpy(),(32,32))\n",
    "    img = torch.from_numpy(img).permute(2,0,1)\n",
    "    # unsqueezed img as inside a tensor and move to cpu\n",
    "    img_tensor = img.unsqueeze(0).to(torch.device('cpu'))\n",
    "    # Predict the label\n",
    "    pred = int(model(img_tensor).argmax(axis=1)[0])\n",
    "    # Find the traffic sign name for label from labels_df \n",
    "    # that initialize at the begining of the notebook\n",
    "    pred_str = labels_df[labels_df['ClassId'] == pred]['Name'][pred]\n",
    "    # Show the image using matplotlib\n",
    "    plt.figure(figsize=(5,5))\n",
    "    plt.imshow(cv2.resize(img.permute(1,2,0).numpy(),(1000,1000)))\n",
    "    plt.axis('off')\n",
    "    # Print traffic sign that recognized\n",
    "    print('\\nRecognized Traffic Sign :',pred_str,'\\n')"
   ]
  },
  {
   "cell_type": "markdown",
   "metadata": {},
   "source": [
    "Predictions on isreali images:"
   ]
  },
  {
   "cell_type": "code",
   "execution_count": 40,
   "metadata": {},
   "outputs": [],
   "source": [
    "torch.save(model,'traffic_sign_recognition.pt')"
   ]
  }
 ],
 "metadata": {
  "kernelspec": {
   "display_name": "base",
   "language": "python",
   "name": "python3"
  },
  "language_info": {
   "codemirror_mode": {
    "name": "ipython",
    "version": 3
   },
   "file_extension": ".py",
   "mimetype": "text/x-python",
   "name": "python",
   "nbconvert_exporter": "python",
   "pygments_lexer": "ipython3",
   "version": "3.10.9"
  }
 },
 "nbformat": 4,
 "nbformat_minor": 2
}
